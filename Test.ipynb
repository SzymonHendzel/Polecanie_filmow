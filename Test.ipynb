{
 "cells": [
  {
   "cell_type": "code",
   "execution_count": 1,
   "metadata": {},
   "outputs": [],
   "source": [
    "import pandas as pd\n",
    "import numpy as np\n",
    "import json"
   ]
  },
  {
   "cell_type": "code",
   "execution_count": 2,
   "metadata": {},
   "outputs": [],
   "source": [
    "movies = pd.read_csv('../Aplikacja_polecania/Movies/movies.csv')"
   ]
  },
  {
   "cell_type": "code",
   "execution_count": 16,
   "metadata": {},
   "outputs": [
    {
     "name": "stderr",
     "output_type": "stream",
     "text": [
      "C:\\Users\\shina\\AppData\\Local\\Temp\\ipykernel_23072\\3084599316.py:3: FutureWarning: The default value of regex will change from True to False in a future version.\n",
      "  movies['title'] = movies['title'].str.replace('(\\(\\d\\d\\d\\d\\))', '')\n"
     ]
    }
   ],
   "source": [
    "movies['year'] = movies['title'].str.extract('(\\(\\d\\d\\d\\d\\))',expand = False)\n",
    "movies['year'] = movies['year'].str.extract('(\\d\\d\\d\\d)',expand=False)\n",
    "movies['title'] = movies['title'].str.replace('(\\(\\d\\d\\d\\d\\))', '')\n",
    "movies['title'] = movies['title'].apply(lambda x: x.strip())\n",
    "movies['genres'] = movies['genres'].str.split(pat='|')\n",
    "movies_for_user_list = movies"
   ]
  },
  {
   "cell_type": "code",
   "execution_count": 67,
   "metadata": {},
   "outputs": [
    {
     "ename": "KeyError",
     "evalue": "'Szymon'",
     "output_type": "error",
     "traceback": [
      "\u001b[1;31m---------------------------------------------------------------------------\u001b[0m",
      "\u001b[1;31mKeyError\u001b[0m                                  Traceback (most recent call last)",
      "\u001b[1;32me:\\Data_scientist\\Aplikacja_polecania\\Test.ipynb Komórka 4\u001b[0m in \u001b[0;36m<cell line: 4>\u001b[1;34m()\u001b[0m\n\u001b[0;32m      <a href='vscode-notebook-cell:/e%3A/Data_scientist/Aplikacja_polecania/Test.ipynb#W3sZmlsZQ%3D%3D?line=0'>1</a>\u001b[0m \u001b[39mwith\u001b[39;00m \u001b[39mopen\u001b[39m(\u001b[39m'\u001b[39m\u001b[39m..\u001b[39m\u001b[39m\\\u001b[39m\u001b[39mAplikacja_polecania\u001b[39m\u001b[39m\\\u001b[39m\u001b[39msample.json\u001b[39m\u001b[39m'\u001b[39m) \u001b[39mas\u001b[39;00m f:\n\u001b[0;32m      <a href='vscode-notebook-cell:/e%3A/Data_scientist/Aplikacja_polecania/Test.ipynb#W3sZmlsZQ%3D%3D?line=1'>2</a>\u001b[0m     watched_films \u001b[39m=\u001b[39m json\u001b[39m.\u001b[39mload(f)\n\u001b[1;32m----> <a href='vscode-notebook-cell:/e%3A/Data_scientist/Aplikacja_polecania/Test.ipynb#W3sZmlsZQ%3D%3D?line=3'>4</a>\u001b[0m user_movies \u001b[39m=\u001b[39m pd\u001b[39m.\u001b[39mDataFrame(watched_films[\u001b[39m'\u001b[39;49m\u001b[39mSzymon\u001b[39;49m\u001b[39m'\u001b[39;49m]\u001b[39m.\u001b[39mitems(),columns \u001b[39m=\u001b[39m [\u001b[39m'\u001b[39m\u001b[39mTitle\u001b[39m\u001b[39m'\u001b[39m,\u001b[39m'\u001b[39m\u001b[39mGrade\u001b[39m\u001b[39m'\u001b[39m])    \n\u001b[0;32m      <a href='vscode-notebook-cell:/e%3A/Data_scientist/Aplikacja_polecania/Test.ipynb#W3sZmlsZQ%3D%3D?line=4'>5</a>\u001b[0m user_movies\u001b[39m.\u001b[39mset_index(keys\u001b[39m=\u001b[39m\u001b[39m'\u001b[39m\u001b[39mTitle\u001b[39m\u001b[39m'\u001b[39m,drop\u001b[39m=\u001b[39m\u001b[39mTrue\u001b[39;00m,inplace\u001b[39m=\u001b[39m\u001b[39mTrue\u001b[39;00m)\n\u001b[0;32m      <a href='vscode-notebook-cell:/e%3A/Data_scientist/Aplikacja_polecania/Test.ipynb#W3sZmlsZQ%3D%3D?line=5'>6</a>\u001b[0m user_movies\u001b[39m.\u001b[39mhead()\n",
      "\u001b[1;31mKeyError\u001b[0m: 'Szymon'"
     ]
    }
   ],
   "source": [
    "with open('..\\Aplikacja_polecania\\sample.json') as f:\n",
    "    watched_films = json.load(f)\n",
    "\n",
    "user_movies = pd.DataFrame(watched_films['Szymon'].items(),columns = ['Title','Grade'])    \n",
    "user_movies.set_index(keys='Title',drop=True,inplace=True)\n",
    "user_movies.head()"
   ]
  },
  {
   "cell_type": "code",
   "execution_count": 76,
   "metadata": {},
   "outputs": [
    {
     "data": {
      "text/plain": [
       "{'Szymon': {'Toy Story': 4,\n",
       "  'Heat': 4,\n",
       "  'American President, The': 5,\n",
       "  'Restoration': 8,\n",
       "  'Grumpier Old Men': 4,\n",
       "  'Casino': 4},\n",
       " 'Agata': {'Toy Story': 4,\n",
       "  'Heat': 3,\n",
       "  'American President, The': 10,\n",
       "  'Restoration': 6,\n",
       "  'Dead Man Walking': 4}}"
      ]
     },
     "execution_count": 76,
     "metadata": {},
     "output_type": "execute_result"
    }
   ],
   "source": [
    "with open('..\\Aplikacja_polecania\\Szymon.json') as f:\n",
    "    watched_films = json.load(f)\n",
    "watched_films"
   ]
  },
  {
   "cell_type": "code",
   "execution_count": 5,
   "metadata": {},
   "outputs": [],
   "source": [
    "movies_hot_encode = pd.concat([             #Hot encode wykorzysytując funkcję biblioteki pandas concat oraz funkcji applay\n",
    "        movies.drop(\"genres\", axis = 1),\n",
    "        movies.genres.apply(lambda x: pd.Series(1, x)).fillna(0)\n",
    "    ], axis=1, )\n",
    "movies_hot_encode.drop([\"movieId\",\"year\",\"(no genres listed)\"],axis=1,inplace=True)\n",
    "movies_hot_encode.set_index(keys='title',drop=True,inplace=True)"
   ]
  },
  {
   "cell_type": "code",
   "execution_count": 6,
   "metadata": {},
   "outputs": [
    {
     "data": {
      "text/html": [
       "<div>\n",
       "<style scoped>\n",
       "    .dataframe tbody tr th:only-of-type {\n",
       "        vertical-align: middle;\n",
       "    }\n",
       "\n",
       "    .dataframe tbody tr th {\n",
       "        vertical-align: top;\n",
       "    }\n",
       "\n",
       "    .dataframe thead th {\n",
       "        text-align: right;\n",
       "    }\n",
       "</style>\n",
       "<table border=\"1\" class=\"dataframe\">\n",
       "  <thead>\n",
       "    <tr style=\"text-align: right;\">\n",
       "      <th></th>\n",
       "      <th>Adventure</th>\n",
       "      <th>Animation</th>\n",
       "      <th>Children</th>\n",
       "      <th>Comedy</th>\n",
       "      <th>Fantasy</th>\n",
       "      <th>Romance</th>\n",
       "      <th>Drama</th>\n",
       "      <th>Action</th>\n",
       "      <th>Crime</th>\n",
       "      <th>Thriller</th>\n",
       "      <th>Horror</th>\n",
       "      <th>Mystery</th>\n",
       "      <th>Sci-Fi</th>\n",
       "      <th>War</th>\n",
       "      <th>Musical</th>\n",
       "      <th>Documentary</th>\n",
       "      <th>IMAX</th>\n",
       "      <th>Western</th>\n",
       "      <th>Film-Noir</th>\n",
       "    </tr>\n",
       "    <tr>\n",
       "      <th>title</th>\n",
       "      <th></th>\n",
       "      <th></th>\n",
       "      <th></th>\n",
       "      <th></th>\n",
       "      <th></th>\n",
       "      <th></th>\n",
       "      <th></th>\n",
       "      <th></th>\n",
       "      <th></th>\n",
       "      <th></th>\n",
       "      <th></th>\n",
       "      <th></th>\n",
       "      <th></th>\n",
       "      <th></th>\n",
       "      <th></th>\n",
       "      <th></th>\n",
       "      <th></th>\n",
       "      <th></th>\n",
       "      <th></th>\n",
       "    </tr>\n",
       "  </thead>\n",
       "  <tbody>\n",
       "    <tr>\n",
       "      <th>Toy Story</th>\n",
       "      <td>1.0</td>\n",
       "      <td>1.0</td>\n",
       "      <td>1.0</td>\n",
       "      <td>1.0</td>\n",
       "      <td>1.0</td>\n",
       "      <td>0.0</td>\n",
       "      <td>0.0</td>\n",
       "      <td>0.0</td>\n",
       "      <td>0.0</td>\n",
       "      <td>0.0</td>\n",
       "      <td>0.0</td>\n",
       "      <td>0.0</td>\n",
       "      <td>0.0</td>\n",
       "      <td>0.0</td>\n",
       "      <td>0.0</td>\n",
       "      <td>0.0</td>\n",
       "      <td>0.0</td>\n",
       "      <td>0.0</td>\n",
       "      <td>0.0</td>\n",
       "    </tr>\n",
       "    <tr>\n",
       "      <th>Jumanji</th>\n",
       "      <td>1.0</td>\n",
       "      <td>0.0</td>\n",
       "      <td>1.0</td>\n",
       "      <td>0.0</td>\n",
       "      <td>1.0</td>\n",
       "      <td>0.0</td>\n",
       "      <td>0.0</td>\n",
       "      <td>0.0</td>\n",
       "      <td>0.0</td>\n",
       "      <td>0.0</td>\n",
       "      <td>0.0</td>\n",
       "      <td>0.0</td>\n",
       "      <td>0.0</td>\n",
       "      <td>0.0</td>\n",
       "      <td>0.0</td>\n",
       "      <td>0.0</td>\n",
       "      <td>0.0</td>\n",
       "      <td>0.0</td>\n",
       "      <td>0.0</td>\n",
       "    </tr>\n",
       "    <tr>\n",
       "      <th>Grumpier Old Men</th>\n",
       "      <td>0.0</td>\n",
       "      <td>0.0</td>\n",
       "      <td>0.0</td>\n",
       "      <td>1.0</td>\n",
       "      <td>0.0</td>\n",
       "      <td>1.0</td>\n",
       "      <td>0.0</td>\n",
       "      <td>0.0</td>\n",
       "      <td>0.0</td>\n",
       "      <td>0.0</td>\n",
       "      <td>0.0</td>\n",
       "      <td>0.0</td>\n",
       "      <td>0.0</td>\n",
       "      <td>0.0</td>\n",
       "      <td>0.0</td>\n",
       "      <td>0.0</td>\n",
       "      <td>0.0</td>\n",
       "      <td>0.0</td>\n",
       "      <td>0.0</td>\n",
       "    </tr>\n",
       "    <tr>\n",
       "      <th>Waiting to Exhale</th>\n",
       "      <td>0.0</td>\n",
       "      <td>0.0</td>\n",
       "      <td>0.0</td>\n",
       "      <td>1.0</td>\n",
       "      <td>0.0</td>\n",
       "      <td>1.0</td>\n",
       "      <td>1.0</td>\n",
       "      <td>0.0</td>\n",
       "      <td>0.0</td>\n",
       "      <td>0.0</td>\n",
       "      <td>0.0</td>\n",
       "      <td>0.0</td>\n",
       "      <td>0.0</td>\n",
       "      <td>0.0</td>\n",
       "      <td>0.0</td>\n",
       "      <td>0.0</td>\n",
       "      <td>0.0</td>\n",
       "      <td>0.0</td>\n",
       "      <td>0.0</td>\n",
       "    </tr>\n",
       "    <tr>\n",
       "      <th>Father of the Bride Part II</th>\n",
       "      <td>0.0</td>\n",
       "      <td>0.0</td>\n",
       "      <td>0.0</td>\n",
       "      <td>1.0</td>\n",
       "      <td>0.0</td>\n",
       "      <td>0.0</td>\n",
       "      <td>0.0</td>\n",
       "      <td>0.0</td>\n",
       "      <td>0.0</td>\n",
       "      <td>0.0</td>\n",
       "      <td>0.0</td>\n",
       "      <td>0.0</td>\n",
       "      <td>0.0</td>\n",
       "      <td>0.0</td>\n",
       "      <td>0.0</td>\n",
       "      <td>0.0</td>\n",
       "      <td>0.0</td>\n",
       "      <td>0.0</td>\n",
       "      <td>0.0</td>\n",
       "    </tr>\n",
       "  </tbody>\n",
       "</table>\n",
       "</div>"
      ],
      "text/plain": [
       "                             Adventure  Animation  Children  Comedy  Fantasy  \\\n",
       "title                                                                          \n",
       "Toy Story                          1.0        1.0       1.0     1.0      1.0   \n",
       "Jumanji                            1.0        0.0       1.0     0.0      1.0   \n",
       "Grumpier Old Men                   0.0        0.0       0.0     1.0      0.0   \n",
       "Waiting to Exhale                  0.0        0.0       0.0     1.0      0.0   \n",
       "Father of the Bride Part II        0.0        0.0       0.0     1.0      0.0   \n",
       "\n",
       "                             Romance  Drama  Action  Crime  Thriller  Horror  \\\n",
       "title                                                                          \n",
       "Toy Story                        0.0    0.0     0.0    0.0       0.0     0.0   \n",
       "Jumanji                          0.0    0.0     0.0    0.0       0.0     0.0   \n",
       "Grumpier Old Men                 1.0    0.0     0.0    0.0       0.0     0.0   \n",
       "Waiting to Exhale                1.0    1.0     0.0    0.0       0.0     0.0   \n",
       "Father of the Bride Part II      0.0    0.0     0.0    0.0       0.0     0.0   \n",
       "\n",
       "                             Mystery  Sci-Fi  War  Musical  Documentary  IMAX  \\\n",
       "title                                                                           \n",
       "Toy Story                        0.0     0.0  0.0      0.0          0.0   0.0   \n",
       "Jumanji                          0.0     0.0  0.0      0.0          0.0   0.0   \n",
       "Grumpier Old Men                 0.0     0.0  0.0      0.0          0.0   0.0   \n",
       "Waiting to Exhale                0.0     0.0  0.0      0.0          0.0   0.0   \n",
       "Father of the Bride Part II      0.0     0.0  0.0      0.0          0.0   0.0   \n",
       "\n",
       "                             Western  Film-Noir  \n",
       "title                                            \n",
       "Toy Story                        0.0        0.0  \n",
       "Jumanji                          0.0        0.0  \n",
       "Grumpier Old Men                 0.0        0.0  \n",
       "Waiting to Exhale                0.0        0.0  \n",
       "Father of the Bride Part II      0.0        0.0  "
      ]
     },
     "execution_count": 6,
     "metadata": {},
     "output_type": "execute_result"
    }
   ],
   "source": [
    "movies_hot_encode.head()"
   ]
  },
  {
   "cell_type": "code",
   "execution_count": 7,
   "metadata": {},
   "outputs": [
    {
     "ename": "ValueError",
     "evalue": "matrices are not aligned",
     "output_type": "error",
     "traceback": [
      "\u001b[1;31m---------------------------------------------------------------------------\u001b[0m",
      "\u001b[1;31mValueError\u001b[0m                                Traceback (most recent call last)",
      "\u001b[1;32me:\\Data_scientist\\Aplikacja_polecania\\Test.ipynb Komórka 7\u001b[0m in \u001b[0;36m<cell line: 4>\u001b[1;34m()\u001b[0m\n\u001b[0;32m      <a href='vscode-notebook-cell:/e%3A/Data_scientist/Aplikacja_polecania/Test.ipynb#W6sZmlsZQ%3D%3D?line=1'>2</a>\u001b[0m value_list \u001b[39m=\u001b[39m movies_hot_encode\u001b[39m.\u001b[39mloc[idx,:]\n\u001b[0;32m      <a href='vscode-notebook-cell:/e%3A/Data_scientist/Aplikacja_polecania/Test.ipynb#W6sZmlsZQ%3D%3D?line=2'>3</a>\u001b[0m user_movies_transpose \u001b[39m=\u001b[39m user_movies\u001b[39m.\u001b[39mGrade\u001b[39m.\u001b[39mT\n\u001b[1;32m----> <a href='vscode-notebook-cell:/e%3A/Data_scientist/Aplikacja_polecania/Test.ipynb#W6sZmlsZQ%3D%3D?line=3'>4</a>\u001b[0m genre_ratings \u001b[39m=\u001b[39m user_movies_transpose\u001b[39m.\u001b[39;49mdot(value_list)\n\u001b[0;32m      <a href='vscode-notebook-cell:/e%3A/Data_scientist/Aplikacja_polecania/Test.ipynb#W6sZmlsZQ%3D%3D?line=4'>5</a>\u001b[0m genre_ratings_normalize \u001b[39m=\u001b[39m (genre_ratings\u001b[39m-\u001b[39mgenre_ratings\u001b[39m.\u001b[39mmin())\u001b[39m/\u001b[39m(genre_ratings\u001b[39m.\u001b[39mmax()\u001b[39m-\u001b[39mgenre_ratings\u001b[39m.\u001b[39mmin())\n\u001b[0;32m      <a href='vscode-notebook-cell:/e%3A/Data_scientist/Aplikacja_polecania/Test.ipynb#W6sZmlsZQ%3D%3D?line=5'>6</a>\u001b[0m genre_ratings_normalize\n",
      "File \u001b[1;32mc:\\ProgramData\\Anaconda3\\envs\\daftacademy-ds\\lib\\site-packages\\pandas\\core\\series.py:2800\u001b[0m, in \u001b[0;36mSeries.dot\u001b[1;34m(self, other)\u001b[0m\n\u001b[0;32m   2798\u001b[0m common \u001b[39m=\u001b[39m \u001b[39mself\u001b[39m\u001b[39m.\u001b[39mindex\u001b[39m.\u001b[39munion(other\u001b[39m.\u001b[39mindex)\n\u001b[0;32m   2799\u001b[0m \u001b[39mif\u001b[39;00m \u001b[39mlen\u001b[39m(common) \u001b[39m>\u001b[39m \u001b[39mlen\u001b[39m(\u001b[39mself\u001b[39m\u001b[39m.\u001b[39mindex) \u001b[39mor\u001b[39;00m \u001b[39mlen\u001b[39m(common) \u001b[39m>\u001b[39m \u001b[39mlen\u001b[39m(other\u001b[39m.\u001b[39mindex):\n\u001b[1;32m-> 2800\u001b[0m     \u001b[39mraise\u001b[39;00m \u001b[39mValueError\u001b[39;00m(\u001b[39m\"\u001b[39m\u001b[39mmatrices are not aligned\u001b[39m\u001b[39m\"\u001b[39m)\n\u001b[0;32m   2802\u001b[0m left \u001b[39m=\u001b[39m \u001b[39mself\u001b[39m\u001b[39m.\u001b[39mreindex(index\u001b[39m=\u001b[39mcommon, copy\u001b[39m=\u001b[39m\u001b[39mFalse\u001b[39;00m)\n\u001b[0;32m   2803\u001b[0m right \u001b[39m=\u001b[39m other\u001b[39m.\u001b[39mreindex(index\u001b[39m=\u001b[39mcommon, copy\u001b[39m=\u001b[39m\u001b[39mFalse\u001b[39;00m)\n",
      "\u001b[1;31mValueError\u001b[0m: matrices are not aligned"
     ]
    }
   ],
   "source": [
    "idx = user_movies.index.to_list()\n",
    "value_list = movies_hot_encode.loc[idx,:]\n",
    "user_movies_transpose = user_movies.Grade.T\n",
    "genre_ratings = user_movies_transpose.dot(value_list)\n",
    "genre_ratings_normalize = (genre_ratings-genre_ratings.min())/(genre_ratings.max()-genre_ratings.min())\n",
    "genre_ratings_normalize"
   ]
  },
  {
   "cell_type": "code",
   "execution_count": 15,
   "metadata": {},
   "outputs": [
    {
     "data": {
      "text/plain": [
       "Title\n",
       "Toy Story                              4\n",
       "Sabrina                                8\n",
       "Seven (a.k.a. Se7en)                   9\n",
       "Get Shorty                             5\n",
       "Grumpier Old Men                       7\n",
       "Clueless                               7\n",
       "Nobody Loves Me (Keiner liebt mich)    7\n",
       "Heavenly Creatures                     7\n",
       "Name: Grade, dtype: int64"
      ]
     },
     "execution_count": 15,
     "metadata": {},
     "output_type": "execute_result"
    }
   ],
   "source": [
    "user_movies_transpose"
   ]
  },
  {
   "cell_type": "code",
   "execution_count": null,
   "metadata": {},
   "outputs": [],
   "source": []
  }
 ],
 "metadata": {
  "kernelspec": {
   "display_name": "Python 3.10.4 ('daftacademy-ds')",
   "language": "python",
   "name": "python3"
  },
  "language_info": {
   "codemirror_mode": {
    "name": "ipython",
    "version": 3
   },
   "file_extension": ".py",
   "mimetype": "text/x-python",
   "name": "python",
   "nbconvert_exporter": "python",
   "pygments_lexer": "ipython3",
   "version": "3.10.4"
  },
  "orig_nbformat": 4,
  "vscode": {
   "interpreter": {
    "hash": "0b592f244809691a3be54405ed75b263dd98fc0397c72c1a99dff6411e393161"
   }
  }
 },
 "nbformat": 4,
 "nbformat_minor": 2
}
